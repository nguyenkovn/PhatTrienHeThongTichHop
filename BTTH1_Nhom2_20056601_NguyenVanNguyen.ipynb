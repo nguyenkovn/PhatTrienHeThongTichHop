{
 "cells": [
  {
   "cell_type": "markdown",
   "metadata": {},
   "source": [
    "# Họ và tên:Nguyễn Văn Nguyên\n",
    "# MSSV:20056601\n",
    "# Lớp học phần - Nhóm TH: DHCNTT16A - nhóm2"
   ]
  },
  {
   "cell_type": "markdown",
   "metadata": {},
   "source": [
    "# 1. Hello world!"
   ]
  },
  {
   "cell_type": "code",
   "execution_count": 2,
   "metadata": {},
   "outputs": [
    {
     "name": "stdout",
     "output_type": "stream",
     "text": [
      "Hello, world!\n"
     ]
    }
   ],
   "source": [
    "print(\"Hello, world!\")"
   ]
  },
  {
   "cell_type": "markdown",
   "metadata": {},
   "source": [
    "# 2. Program to Add Two Numbers"
   ]
  },
  {
   "cell_type": "markdown",
   "metadata": {},
   "source": [
    "## Add Two Numbers"
   ]
  },
  {
   "cell_type": "code",
   "execution_count": 5,
   "metadata": {},
   "outputs": [
    {
     "name": "stdout",
     "output_type": "stream",
     "text": [
      "tổng 2 số: 7.8\n"
     ]
    }
   ],
   "source": [
    "num1 = 1.5\n",
    "num2 = 6.3\n",
    "\n",
    "### START CODE HERE ### \n",
    "# Add two numbers\n",
    "\n",
    "sum = num1 + num2\n",
    "\n",
    "# Display the sum\n",
    "print('tổng 2 số:',sum)"
   ]
  },
  {
   "cell_type": "markdown",
   "metadata": {},
   "source": [
    "##  Add Two Numbers With User Input"
   ]
  },
  {
   "cell_type": "code",
   "execution_count": 9,
   "metadata": {},
   "outputs": [
    {
     "name": "stdout",
     "output_type": "stream",
     "text": [
      "tổng của 2.0 và 4.0 là: 6.0\n"
     ]
    }
   ],
   "source": [
    "# Store input numbers\n",
    "num1 = float(input(\"Nhập số thứ nhất: \"))\n",
    "num2 = float(input(\"Nhập số thứ hai: \"))\n",
    "\n",
    "### START CODE HERE ### \n",
    "\n",
    "# Add two numbers\n",
    "sum = num1 + num2\n",
    "\n",
    "### END CODE HERE ###\n",
    "\n",
    "# Display the sum\n",
    "print(\"tổng của\", num1, \"và\", num2, \"là:\", sum)"
   ]
  },
  {
   "cell_type": "markdown",
   "metadata": {},
   "source": [
    "# 3. Program to Find the Square Root"
   ]
  },
  {
   "cell_type": "code",
   "execution_count": 10,
   "metadata": {},
   "outputs": [
    {
     "name": "stdout",
     "output_type": "stream",
     "text": [
      "The square root of 8 is: 2.8284271247461903\n"
     ]
    }
   ],
   "source": [
    "# Python Program to calculate the square root\n",
    "\n",
    "# Note: change this value for a different result\n",
    "num = 8 \n",
    "\n",
    "# To take the input from the user\n",
    "#num = float(input('Enter a number: '))\n",
    "\n",
    "# calculate the square root \n",
    "sqrt = num ** 0.5\n",
    "\n",
    "# print the value of the square root\n",
    "print(\"The square root of\", num, \"is:\", sqrt)\n"
   ]
  },
  {
   "cell_type": "markdown",
   "metadata": {},
   "source": [
    "# 4. Program to Calculate the Area of a Triangle\n",
    "s = (a+b+c)/2\n",
    "\n",
    "area = √(s(s-a)*(s-b)*(s-c))"
   ]
  },
  {
   "cell_type": "code",
   "execution_count": 17,
   "metadata": {},
   "outputs": [
    {
     "name": "stdout",
     "output_type": "stream",
     "text": [
      "The area of the triangle is 4.15\n"
     ]
    }
   ],
   "source": [
    "### START CODE HERE ### \n",
    "\n",
    "# take inputs from the user\n",
    "a = 5\n",
    "b = 3\n",
    "c = 3\n",
    "\n",
    "\n",
    "# calculate the semi-perimeter\n",
    "s = (a+b+c)/2\n",
    "\n",
    "# calculate the area\n",
    "area = (s * (s - a) * (s - b) * (s - c))**0.5\n",
    "\n",
    "### END CODE HERE ###\n",
    "\n",
    "print('The area of the triangle is %0.2f' %area)"
   ]
  },
  {
   "cell_type": "markdown",
   "metadata": {},
   "source": [
    "# 5. Program to Solve Quadratic Equation\n",
    "ax2 + bx + c = 0, where a, b and c are real numbers and a ≠ 0"
   ]
  },
  {
   "cell_type": "code",
   "execution_count": 18,
   "metadata": {},
   "outputs": [
    {
     "name": "stdout",
     "output_type": "stream",
     "text": [
      "The solution are (-0.75+1.3919410907075054j) and (-0.75-1.3919410907075054j)\n"
     ]
    }
   ],
   "source": [
    "import cmath\n",
    "\n",
    "### START CODE HERE ### \n",
    "\n",
    "# take inputs from the user\n",
    "a = 2\n",
    "b = 3\n",
    "c = 5\n",
    "\n",
    "# calculate the discriminant\n",
    "d = (b**2) - (4*a*c)\n",
    "\n",
    "# find two solutions using square root for real/complex number\n",
    "sol1 = (-b + cmath.sqrt(d)) / (2*a)\n",
    "sol2 = (-b - cmath.sqrt(d)) / (2*a)\n",
    "### END CODE HERE ###\n",
    "\n",
    "print('The solution are {0} and {1}'.format(sol1,sol2))"
   ]
  },
  {
   "cell_type": "markdown",
   "metadata": {},
   "source": [
    "# 6. Program to Swap Two Variables"
   ]
  },
  {
   "cell_type": "code",
   "execution_count": 19,
   "metadata": {},
   "outputs": [
    {
     "name": "stdout",
     "output_type": "stream",
     "text": [
      "Trước khi hoán đổi: \n",
      "a = 5\n",
      "b = 10\n",
      "\n",
      "Sau khi hoán đổi: \n",
      "a = 10\n",
      "b = 5\n"
     ]
    }
   ],
   "source": [
    "# To take inputs from the user\n",
    "a = 5  \n",
    "b = 10\n",
    "print(\"Trước khi hoán đổi: \")\n",
    "print(\"a =\", a)\n",
    "print(\"b =\", b)\n",
    "\n",
    "\n",
    "# create a temporary variable and swap the values\n",
    "temp = a\n",
    "a = b\n",
    "b = temp\n",
    "# Print the c=value of x, y after swapping\n",
    "print(\"\\nSau khi hoán đổi: \")\n",
    "print(\"a =\", a)\n",
    "print(\"b =\", b)\n"
   ]
  },
  {
   "cell_type": "code",
   "execution_count": 21,
   "metadata": {},
   "outputs": [
    {
     "name": "stdout",
     "output_type": "stream",
     "text": [
      "Địa chỉ của a = 140716472460360\n",
      "Địa chỉ của b = 140716472460200\n",
      "Địa chỉ của temp = 140716472460200\n"
     ]
    }
   ],
   "source": [
    "### START CODE HERE ### \n",
    "# writing code to get the address (in RAM) of x, y, temp through the built-in function id()\n",
    "print(\"Địa chỉ của a =\", id(a))\n",
    "print(\"Địa chỉ của b =\", id(b))\n",
    "print(\"Địa chỉ của temp =\", id(temp)) \n",
    "### END CODE HERE ###"
   ]
  },
  {
   "cell_type": "markdown",
   "metadata": {},
   "source": [
    "# 7. Program to Generate a Random Number\n",
    "https://docs.python.org/3/library/random.html"
   ]
  },
  {
   "cell_type": "code",
   "execution_count": 26,
   "metadata": {},
   "outputs": [
    {
     "name": "stdout",
     "output_type": "stream",
     "text": [
      "5\n",
      "0\n",
      "8\n",
      "0.18493409639628655\n",
      "6.5451022623084505\n"
     ]
    }
   ],
   "source": [
    "# Program to generate a random number between 0 and 9\n",
    "\n",
    "# importing the random module\n",
    "import random\n",
    "\n",
    "print(random.randint(0,9))\n",
    "\n",
    "# Uncomment to try different function in random module\n",
    "print(random.randrange(9))\n",
    "print(random.randrange(3,9))\n",
    "print(random.random())\n",
    "print(random.uniform(a,b))"
   ]
  },
  {
   "cell_type": "markdown",
   "metadata": {},
   "source": [
    "# 8. Program to Convert Kilometers to Miles\n",
    "1 km = (1/1.609344) mi = 0.62137119 mi"
   ]
  },
  {
   "cell_type": "code",
   "execution_count": 27,
   "metadata": {},
   "outputs": [
    {
     "name": "stdout",
     "output_type": "stream",
     "text": [
      "23.00 kilometers is equal to 14.29 miles\n"
     ]
    }
   ],
   "source": [
    "# Taking kilometers input from the user\n",
    "kilometers = float(input(\"Enter value in kilometers: \"))\n",
    "\n",
    "# conversion factor\n",
    "conv_fac = 0.621371\n",
    "\n",
    "# calculate miles\n",
    "miles = kilometers * conv_fac\n",
    "print('%0.2f kilometers is equal to %0.2f miles' %(kilometers,miles))"
   ]
  },
  {
   "cell_type": "code",
   "execution_count": 28,
   "metadata": {},
   "outputs": [
    {
     "name": "stdout",
     "output_type": "stream",
     "text": [
      "Distance in kilometers: 160.9344\n"
     ]
    }
   ],
   "source": [
    "### START CODE HERE ### \n",
    "# writing code to convert miles to kilometers\n",
    "# Input distance in miles\n",
    "miles = float(input(\"Enter the distance in miles: \"))\n",
    "\n",
    "# Conversion factor\n",
    "conversion_factor = 1.609344\n",
    "\n",
    "# Convert miles to kilometers\n",
    "kilometers = miles * conversion_factor\n",
    "\n",
    "# Display the result\n",
    "print(\"Distance in kilometers:\", kilometers)\n",
    "### END CODE HERE ###"
   ]
  },
  {
   "cell_type": "markdown",
   "metadata": {},
   "source": [
    "# 9. Program to Convert Celsius To Fahrenheit\n",
    "T(°F) = T(°C) × 1.8 + 32"
   ]
  },
  {
   "cell_type": "code",
   "execution_count": 29,
   "metadata": {},
   "outputs": [
    {
     "name": "stdout",
     "output_type": "stream",
     "text": [
      "Temperature in Fahrenheit: 77.0\n"
     ]
    }
   ],
   "source": [
    "# Taking Celsius input from the user\n",
    "celsius = float(input(\"Enter the temperature in Celsius: \"))\n",
    "\n",
    "# Conversion factor\n",
    "conversion_factor = 1.8\n",
    "\n",
    "# Calculate Fahrenheit\n",
    "fahrenheit = celsius * conversion_factor + 32\n",
    "\n",
    "# Print result\n",
    "print(\"Temperature in Fahrenheit:\", fahrenheit)"
   ]
  }
 ],
 "metadata": {
  "kernelspec": {
   "display_name": "Python 3",
   "language": "python",
   "name": "python3"
  },
  "language_info": {
   "codemirror_mode": {
    "name": "ipython",
    "version": 3
   },
   "file_extension": ".py",
   "mimetype": "text/x-python",
   "name": "python",
   "nbconvert_exporter": "python",
   "pygments_lexer": "ipython3",
   "version": "3.11.5"
  }
 },
 "nbformat": 4,
 "nbformat_minor": 2
}
